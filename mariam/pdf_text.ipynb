{
 "cells": [
  {
   "attachments": {},
   "cell_type": "markdown",
   "metadata": {},
   "source": [
    "# PDF to TEXT "
   ]
  },
  {
   "attachments": {},
   "cell_type": "markdown",
   "metadata": {},
   "source": [
    "### Using PyPDF2"
   ]
  },
  {
   "cell_type": "code",
   "execution_count": 2,
   "metadata": {},
   "outputs": [
    {
     "name": "stdout",
     "output_type": "stream",
     "text": [
      "A. Dijkstra shortest path algorithm using Prim’s Algorithm in O(V2): \n",
      "Dijkstra’s algorithm is very similar to  Prim’s algorithm for minimum spanning tree .  \n",
      "Like Prim’s MST, generate a  SPT (shortest pa th tree)  with a given source as a root. Maintain \n",
      "two sets, one set contains vertices included in the shortest -path tree, other set includes vertices not \n",
      "yet included in the shortest -path tree. At every step of the algorithm, find a vertex that is in the \n",
      "other set (set not yet included) and has a minimum distance from the source.  \n",
      "Follow the steps below to solve the problem:  \n",
      "• Create a set  sptSet  (shortest path tree set) that keeps track of vertices included in the \n",
      "shortest path tree, i.e., whose minimum distan ce from the source is calculated and finalized. \n",
      "Initially, this set is empty.   \n",
      "• Assign a distance value to all vertices in the input graph. Initialize all distance values \n",
      "as INFINITE . Assign the distance value as 0 for the source vertex so that it is picked  first.  \n",
      "• While  sptSet  doesn’t include all vertices   \n",
      "• Pick a vertex  u that is not there in  sptSet  and has a minimum distance value.   \n",
      "• Include u to  sptSet .  \n",
      "• Then update the distance value of all adjacent vertices of u.   \n",
      "• To update the distance values, iterate through all adjacent vertices.   \n",
      "• For every adjacent vertex v, if the sum of the distance value of u (from \n",
      "source) and weight of edge u -v, is less than the distance value of v, then \n",
      "update the distance value of v.   \n",
      "Note:  We use a boolean array sptSet[] to represent the set of vertices included in SPT. If a value \n",
      "sptSet[v] is true, then vertex v is included in SPT, otherwise not. Array dist[] is used to store the \n",
      "shortest distance values of all vertices.  \n",
      "Below is the illustration of the above approach:  \n",
      "Illustration:  \n",
      "To understand the Dijkstra’s Algorithm lets take a graph and find the shortest path from source \n",
      "to all nodes.  \n",
      "Consider below graph and  src = 0   \n",
      "Step 1:  \n",
      "• The set  sptSet  is initially empty and distances assigned to vertices are {0, INF, INF, INF, \n",
      "INF, INF, INF, INF} where  INF indicates infinite.   \n",
      "• Now pick the vertex with a minimum distance value. The vertex 0 is pi cked, include it \n",
      "in sptSet . So sptSet  becomes {0}. After including 0 to  sptSet , update di  \n",
      " \n",
      "\n"
     ]
    }
   ],
   "source": [
    "import PyPDF2\n",
    "\n",
    "def pdf_to_text(pdf_path):\n",
    "    text = \"\"\n",
    "    with open(pdf_path, \"rb\") as file:\n",
    "        reader = PyPDF2.PdfReader(file)\n",
    "        num_pages = len(reader.pages)\n",
    "\n",
    "        for page in range(num_pages):\n",
    "            page_obj = reader.pages[page]\n",
    "            text += page_obj.extract_text()\n",
    "\n",
    "    return text\n",
    "\n",
    "# Specify the path to your PDF file\n",
    "pdf_file_path = \"Dijkstra.pdf\"\n",
    "\n",
    "# Call the function to convert the PDF to text\n",
    "converted_text = pdf_to_text(pdf_file_path)\n",
    "\n",
    "# Print the converted text\n",
    "print(converted_text)\n"
   ]
  },
  {
   "attachments": {},
   "cell_type": "markdown",
   "metadata": {},
   "source": [
    "### Using langchain"
   ]
  },
  {
   "cell_type": "code",
   "execution_count": 3,
   "metadata": {},
   "outputs": [],
   "source": [
    "from langchain.document_loaders import PyPDFLoader\n",
    "\n",
    "loader = PyPDFLoader(\"Dijkstra.pdf\")\n",
    "pages = loader.load_and_split()"
   ]
  },
  {
   "cell_type": "code",
   "execution_count": 4,
   "metadata": {},
   "outputs": [
    {
     "data": {
      "text/plain": [
       "Document(page_content='A. Dijkstra shortest path algorithm using Prim’s Algorithm in O(V2): \\nDijkstra’s algorithm is very similar to  Prim’s algorithm for minimum spanning tree .  \\nLike Prim’s MST, generate a  SPT (shortest pa th tree)  with a given source as a root. Maintain \\ntwo sets, one set contains vertices included in the shortest -path tree, other set includes vertices not \\nyet included in the shortest -path tree. At every step of the algorithm, find a vertex that is in the \\nother set (set not yet included) and has a minimum distance from the source.  \\nFollow the steps below to solve the problem:  \\n• Create a set  sptSet  (shortest path tree set) that keeps track of vertices included in the \\nshortest path tree, i.e., whose minimum distan ce from the source is calculated and finalized. \\nInitially, this set is empty.   \\n• Assign a distance value to all vertices in the input graph. Initialize all distance values \\nas INFINITE . Assign the distance value as 0 for the source vertex so that it is picked  first.  \\n• While  sptSet  doesn’t include all vertices   \\n• Pick a vertex  u that is not there in  sptSet  and has a minimum distance value.   \\n• Include u to  sptSet .  \\n• Then update the distance value of all adjacent vertices of u.   \\n• To update the distance values, iterate through all adjacent vertices.   \\n• For every adjacent vertex v, if the sum of the distance value of u (from \\nsource) and weight of edge u -v, is less than the distance value of v, then \\nupdate the distance value of v.   \\nNote:  We use a boolean array sptSet[] to represent the set of vertices included in SPT. If a value \\nsptSet[v] is true, then vertex v is included in SPT, otherwise not. Array dist[] is used to store the \\nshortest distance values of all vertices.  \\nBelow is the illustration of the above approach:  \\nIllustration:  \\nTo understand the Dijkstra’s Algorithm lets take a graph and find the shortest path from source \\nto all nodes.  \\nConsider below graph and  src = 0', metadata={'source': 'Dijkstra.pdf', 'page': 0})"
      ]
     },
     "execution_count": 4,
     "metadata": {},
     "output_type": "execute_result"
    }
   ],
   "source": [
    "pages[0]"
   ]
  },
  {
   "attachments": {},
   "cell_type": "markdown",
   "metadata": {},
   "source": [
    "`### Conclusion: using pypdf is much faster`"
   ]
  }
 ],
 "metadata": {
  "kernelspec": {
   "display_name": "Python 3",
   "language": "python",
   "name": "python3"
  },
  "language_info": {
   "codemirror_mode": {
    "name": "ipython",
    "version": 3
   },
   "file_extension": ".py",
   "mimetype": "text/x-python",
   "name": "python",
   "nbconvert_exporter": "python",
   "pygments_lexer": "ipython3",
   "version": "3.8.7"
  },
  "orig_nbformat": 4
 },
 "nbformat": 4,
 "nbformat_minor": 2
}
