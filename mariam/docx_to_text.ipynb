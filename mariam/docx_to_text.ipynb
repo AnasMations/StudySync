{
 "cells": [
  {
   "attachments": {},
   "cell_type": "markdown",
   "metadata": {},
   "source": [
    "## DOCX to TEXT"
   ]
  },
  {
   "cell_type": "code",
   "execution_count": 1,
   "metadata": {},
   "outputs": [
    {
     "name": "stdout",
     "output_type": "stream",
     "text": [
      "Dijkstra shortest path algorithm using Prim’s Algorithm in O(V2):\n",
      "Dijkstra’s algorithm is very similar to . \n",
      "Like Prim’s MST, generate a SPT (shortest path tree) with a given source as a root. Maintain two sets, one set contains vertices included in the shortest-path tree, other set includes vertices not yet included in the shortest-path tree. At every step of the algorithm, find a vertex that is in the other set (set not yet included) and has a minimum distance from the source.\n",
      "Follow the steps below to solve the problem:\n",
      "Create a set sptSet (shortest path tree set) that keeps track of vertices included in the shortest path tree, i.e., whose minimum distance from the source is calculated and finalized. Initially, this set is empty. \n",
      "Assign a distance value to all vertices in the input graph. Initialize all distance values as INFINITE. Assign the distance value as 0 for the source vertex so that it is picked first. \n",
      "While sptSet doesn’t include all vertices \n",
      "Pick a vertex u that is not there in sptSet and has a minimum distance value. \n",
      "Include u to sptSet. \n",
      "Then update the distance value of all adjacent vertices of u. \n",
      "To update the distance values, iterate through all adjacent vertices. \n",
      "For every adjacent vertex v, if the sum of the distance value of u (from source) and weight of edge u-v, is less than the distance value of v, then update the distance value of v. \n",
      "Note: We use a boolean array sptSet[] to represent the set of vertices included in SPT. If a value sptSet[v] is true, then vertex v is included in SPT, otherwise not. Array dist[] is used to store the shortest distance values of all vertices.\n",
      "Below is the illustration of the above approach:\n",
      "Illustration:\n",
      "To understand the Dijkstra’s Algorithm lets take a graph and find the shortest path from source to all nodes.\n",
      "Consider below graph and src = 0\n",
      "\n",
      "Step 1:\n",
      "The set sptSet is initially empty and distances assigned to vertices are {0, INF, INF, INF, INF, INF, INF, INF} where INF indicates infinite. \n",
      "Now pick the vertex with a minimum distance value. The vertex 0 is picked, include it in sptSet. So sptSet becomes {0}. After including 0 to sptSet, update di\n",
      "\n"
     ]
    }
   ],
   "source": [
    "import docx\n",
    "\n",
    "def doc_to_text(docx_path):\n",
    "    doc = docx.Document(docx_path)\n",
    "    text = \"\\n\".join([paragraph.text for paragraph in doc.paragraphs])\n",
    "    return text\n",
    "\n",
    "# Specify the path to your Word document\n",
    "docx_file_path = \"Dijkstra.docx\"\n",
    "\n",
    "# Call the function to convert the Word document to text\n",
    "converted_text = doc_to_text(docx_file_path)\n",
    "\n",
    "# Print the converted text\n",
    "print(converted_text)\n"
   ]
  }
 ],
 "metadata": {
  "kernelspec": {
   "display_name": "Python 3",
   "language": "python",
   "name": "python3"
  },
  "language_info": {
   "codemirror_mode": {
    "name": "ipython",
    "version": 3
   },
   "file_extension": ".py",
   "mimetype": "text/x-python",
   "name": "python",
   "nbconvert_exporter": "python",
   "pygments_lexer": "ipython3",
   "version": "3.8.7"
  },
  "orig_nbformat": 4
 },
 "nbformat": 4,
 "nbformat_minor": 2
}
