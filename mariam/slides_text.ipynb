{
 "cells": [
  {
   "attachments": {},
   "cell_type": "markdown",
   "metadata": {},
   "source": [
    "## Slides to Text"
   ]
  },
  {
   "cell_type": "code",
   "execution_count": 1,
   "metadata": {},
   "outputs": [
    {
     "name": "stdout",
     "output_type": "stream",
     "text": [
      "DijkstraDijkstra shortest path algorithm using Prim’s Algorithm in O(V2):Dijkstra’s algorithm is very similar to Prim’s algorithm for minimum spanning tree. Like Prim’s MST, generate a SPT (shortest path tree) with a given source as a root. Maintain two sets, one set contains vertices included in the shortest-path tree, other set includes vertices not yet included in the shortest-path tree. At every step of the algorithm, find a vertex that is in the other set (set not yet included) and has a minimum distance from the source.Follow the steps below to solve the problem:Create a set sptSet (shortest path tree set) that keeps track of vertices included in the shortest path tree, i.e., whose minimum distance from the source is calculated and finalized. Initially, this set is empty. Assign a distance value to all vertices in the input graph. Initialize all distance values as INFINITE. Assign the distance value as 0 for the source vertex so that it is picked first. While sptSet doesn’t include all vertices Pick a vertex u that is not there in sptSet and has a minimum distance value. Include u to sptSet. Then update the distance value of all adjacent vertices of u. To update the distance values, iterate through all adjacent vertices. For every adjacent vertex v, if the sum of the distance value of u (from source) and weight of edge u-v, is less than the distance value of v, then update the distance value of v. \n"
     ]
    }
   ],
   "source": [
    "from pptx import Presentation\n",
    "\n",
    "def ppt_to_text(ppt_path):\n",
    "    text = \"\"\n",
    "    presentation = Presentation(ppt_path)\n",
    "\n",
    "    for slide in presentation.slides:\n",
    "        for shape in slide.shapes:\n",
    "            if shape.has_text_frame:\n",
    "                for paragraph in shape.text_frame.paragraphs:\n",
    "                    for run in paragraph.runs:\n",
    "                        text += run.text\n",
    "\n",
    "    return text\n",
    "\n",
    "# Specify the path to your PowerPoint file\n",
    "ppt_file_path = \"Dijkstra.pptx\"\n",
    "\n",
    "# Call the function to convert the PowerPoint to text\n",
    "converted_text = ppt_to_text(ppt_file_path)\n",
    "\n",
    "# Print the converted text\n",
    "print(converted_text)\n"
   ]
  }
 ],
 "metadata": {
  "kernelspec": {
   "display_name": "Python 3",
   "language": "python",
   "name": "python3"
  },
  "language_info": {
   "codemirror_mode": {
    "name": "ipython",
    "version": 3
   },
   "file_extension": ".py",
   "mimetype": "text/x-python",
   "name": "python",
   "nbconvert_exporter": "python",
   "pygments_lexer": "ipython3",
   "version": "3.8.7"
  },
  "orig_nbformat": 4
 },
 "nbformat": 4,
 "nbformat_minor": 2
}
